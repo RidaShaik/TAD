{
 "cells": [
  {
   "cell_type": "code",
   "execution_count": null,
   "metadata": {
    "vscode": {
     "languageId": "plaintext"
    }
   },
   "outputs": [],
   "source": [
    "from datasets import load_dataset\n",
    "import torch\n",
    "from torchvision import transform\n",
    "\n",
    "dataset = load_dataset(\"MCG-NJU/MultiSports\", split=\"train[:1]\")"
   ]
  },
  {
   "cell_type": "code",
   "execution_count": null,
   "metadata": {
    "vscode": {
     "languageId": "plaintext"
    }
   },
   "outputs": [],
   "source": [
    "sample = dataset[0]\n",
    "\n",
    "frames = sample[\"frame\"]\n",
    "annotations = sample[\"annotations\"]\n",
    "\n",
    "print(f\"Frames: {frames}, Annotations: {annotations}\")"
   ]
  },
  {
   "cell_type": "code",
   "execution_count": null,
   "metadata": {
    "vscode": {
     "languageId": "plaintext"
    }
   },
   "outputs": [],
   "source": [
    "transform = transforms.compose([\n",
    "    transform.Resize((224, 224)),\n",
    "    transfroms.toTensor(),\n",
    "])\n",
    "\n",
    "video_tensor = torch.stack([transform(frame) for frame in frames])\n",
    "video_tensor = video_tensor.permute(1, 0, 2, 3).unsqueeze(0)  # (1, C, T, H, W)\n",
    "\n",
    "print(video_tensor.shape)  # Should be (1, 3, #frames, 224, 224)"
   ]
  },
  {
   "cell_type": "code",
   "execution_count": null,
   "metadata": {
    "vscode": {
     "languageId": "plaintext"
    }
   },
   "outputs": [],
   "source": [
    "torch.save(video_tensor, \"processed/processed_video.pt\") # saves the video tensor as a loadable pytorch tensor"
   ]
  }
 ],
 "metadata": {
  "language_info": {
   "name": "python"
  }
 },
 "nbformat": 4,
 "nbformat_minor": 2
}
