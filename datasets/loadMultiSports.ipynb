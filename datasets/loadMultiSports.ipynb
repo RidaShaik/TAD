{
 "cells": [
  {
   "cell_type": "code",
   "execution_count": null,
   "metadata": {
    "vscode": {
     "languageId": "plaintext"
    }
   },
   "outputs": [],
   "source": [
    "from huggingface_hub import login\n",
    "from dotenv import load_dotenv\n",
    "import os\n",
    "\n",
    "\n",
    "load_dotenv()\n",
    "HF_Token = os.getenv(\"HuggingFace_TOKEN\")\n",
    "login(token=HF_Token) \n",
    "os.environ[\"HF_DATASETS_CACHE\"] = \"/raw/multisports_dataset\" # change hugging face data ste directory"
   ]
  },
  {
   "cell_type": "code",
   "execution_count": null,
   "metadata": {
    "vscode": {
     "languageId": "plaintext"
    }
   },
   "outputs": [],
   "source": [
    "from datasets import load_dataset\n",
    "\n",
    "# Test loading a small portion of MultiSports\n",
    "dataset = load_dataset(\"MCG-NJU/MultiSports\", split=\"train[:1]\")"
   ]
  },
  {
   "cell_type": "code",
   "execution_count": null,
   "metadata": {
    "vscode": {
     "languageId": "plaintext"
    }
   },
   "outputs": [],
   "source": []
  }
 ],
 "metadata": {
  "language_info": {
   "name": "python"
  }
 },
 "nbformat": 4,
 "nbformat_minor": 2
}
